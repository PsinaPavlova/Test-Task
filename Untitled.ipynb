{
 "cells": [
  {
   "cell_type": "markdown",
   "id": "b11a79bb",
   "metadata": {},
   "source": [
    "# Тестовое задание на позицию Junior Analyst\n",
    "В тестовом задании есть 3 этапа\n",
    "\n",
    "### Этап 1. Вопросы\n",
    "**1) Как хорошо Вы владеете Python? Оцените свой уровень по шкале от 0 до 10,\n",
    "где 0 - совсем не знаю, 10 - владею в совершенстве.\n",
    "Объясните, почему Вы выбрали такой балл.**\n",
    "\n",
    "Я бы оценил себя в 6 баллов. Я многому научился, владею большим количеством библиотек, хорошо разбираюсь в структурах данных, мне не составит труда проанализировать данные, разобраться в чужом коде или спроектировать несложное приложение, но я еще многих аспектов не знаю, мне не хватает коммерческого опыта, а некоторые задачки на codewars заставляют меня обратиться к гуглу :)\n",
    "\n",
    "**2) Насколько хорошо Вы знакомы с Google Sheets? Оцените свой уровень по\n",
    "шкале от 0 до 10, где 0 - совсем не знаю, 10 - владею в совершенстве.\n",
    "Объясните, почему Вы выбрали такой балл.**\n",
    "\n",
    "Я бы оценил себя в 4 балла. У меня большой опыт использования Excel, но Google Sheets я использовал не так часто, поэтому знаю не так много формул и фишек работы с данной программой\n",
    "\n",
    "### Этап 2. Задачи на логику \n",
    " **1) Рекламная кампания стартовала вчера с дневным бюджетом 40 $. Половина\n",
    "бюджета была израсходована к полудню, а 80% оставшегося бюджета было\n",
    "потрачено между полуднем и временем закрытия. Сколько долларов не было\n",
    "потрачено?**\n",
    "\n",
    "$1) 40/2=20$ - Количество долларов, оставшееся к полудню\n",
    "\n",
    "$2) 20*0.2=4$ - Количество долларов, которое не было потрачено\n",
    "\n",
    "Ответ: 4$\n",
    "\n",
    " **2) 5 идентичных рекламных кампаний работали 24 дня по 6 часов в день,\n",
    "потрачено было 120 долларов. Сколько дней они работали бы на 216 долларов,\n",
    "если бы 9 одинаковых кампаний работали бы по 8 часов в день?**\n",
    "\n",
    "$1) \\frac{120}{24*6*5} = \\frac {216}{x*8*9}$ - составляем уравнение для вычисления количества дней. Перемножив количество дней на количество часов в день и на количество кампаний, можо посчитать общее количество часов работы кампаний. Если поделить бюджет на полученное число, можно получить стоимость работы одной кампании за один час. Исходя из и было составлено данное уравнение, где за x было принято количество дней, которое необходимо вычислить\n",
    "\n",
    "$2) x=18$\n",
    "\n",
    "Ответ: 18 дней\n",
    "\n",
    " **3) Дизайнеры создали 200 рекламных баннеров для двух рекламных кампаний. 80\n",
    "из них не использовались ни в кампании No1, ни в кампании No2, 60\n",
    "использовались только в кампании No1. И для каждого рекламного баннера,\n",
    "который использовался в обеих кампаниях, приходится 3 баннера, которые\n",
    "использовались только в кампании No2. Сколько баннеров было использовано в\n",
    "обеих рекламных кампаниях?**\n",
    "\n",
    "$1) 200-80-60=60$ - вычисляем, сколько плакатов использовалось в обеих кампаниях и только во второй кампании\n",
    "\n",
    "$2) x+3x=60$ - составим, уравнение, где x - это количество плакатов, которые использовались в обеих кампаниях. Исходя из условия, количество плакатов второй кампании в три раза больше, значит оно будет равно $3x$\n",
    "\n",
    "$x=15$\n",
    "\n",
    "Ответ: 15 плакатов\n",
    "\n",
    "**4) Энн использует Instagram, но не Facebook, а Джон использует Youtube и\n",
    "Facebook. Кейт использует Youtube, но не Instagram, а Том использует Facebook,\n",
    "но не Youtube. Если каждый человек использует две из трех социальных сетей,\n",
    "у кого предпочтения совпадают?**\n",
    "\n",
    "Для решения данной задачки воспользуемя логической таблицей (создадим google sheets). В строках пометим имена из задачки, а в столбцах социальные сети. На пересечениях будем помечать «да», если человек пользуется соц сетью и «нет», если не пользуется\n",
    "\n",
    "![Сравнение вкусов](<Social Media preferences.png>)\n",
    "\n",
    "По данной таблице видно, что вкусы совпадают у Джона и Кейт\n",
    "\n",
    "Ответ: Вкусы совпадают у Джона и Кейт\n",
    "\n",
    "**5)Средний итоговый балл стажера по 4 модулям составляет 78 баллов. Сколько\n",
    "баллов должен получить стажер за 5-й модуль, чтобы средний балл по всему\n",
    "заданию составил 80?**\n",
    "\n",
    "Для решения задачи можно составить следующее уравнение:\n",
    "\n",
    "$\\frac{78*4+x}{5}=80$\n",
    "\n",
    "x=88\n",
    "\n",
    "Ответ:88 баллов\n",
    "\n",
    "**6)Заказанные в приложении товары доставляются на автомобиле. Автомобиль\n",
    "проезжает 260 км со средней скоростью 80 км / ч. На обратном пути машина\n",
    "движется со средней скоростью 100 км / ч. Насколько быстрее был обратный\n",
    "путь? Ответ указать в минутах.**\n",
    "\n",
    "$1)260/80=3,25$ - время затраченное на доставку\n",
    "\n",
    "$2)260/100=2,6$ - время потраченное на путь обратно\n",
    "\n",
    "$3)(3,25-2,6)*60=39$ - подсчитываем разницу во времени и переводим в минуты\n",
    "\n",
    "Ответ: на 39 минут\n",
    "\n",
    "### Этап 3. Техническое задание\n",
    "\n",
    "Для выполнения данного задания необходимо проанализировать данные из выданного датасета. Для этого воспользуемся библиотекой pandas\n"
   ]
  },
  {
   "cell_type": "code",
   "execution_count": 86,
   "id": "70c512c3",
   "metadata": {},
   "outputs": [
    {
     "name": "stdout",
     "output_type": "stream",
     "text": [
      "(730, 8)\n"
     ]
    },
    {
     "data": {
      "text/html": [
       "<div>\n",
       "<style scoped>\n",
       "    .dataframe tbody tr th:only-of-type {\n",
       "        vertical-align: middle;\n",
       "    }\n",
       "\n",
       "    .dataframe tbody tr th {\n",
       "        vertical-align: top;\n",
       "    }\n",
       "\n",
       "    .dataframe thead th {\n",
       "        text-align: right;\n",
       "    }\n",
       "</style>\n",
       "<table border=\"1\" class=\"dataframe\">\n",
       "  <thead>\n",
       "    <tr style=\"text-align: right;\">\n",
       "      <th></th>\n",
       "      <th>client_id</th>\n",
       "      <th>sum</th>\n",
       "      <th>status</th>\n",
       "      <th>sale</th>\n",
       "      <th>new/current</th>\n",
       "      <th>Unnamed: 5</th>\n",
       "      <th>document</th>\n",
       "      <th>receiving_date</th>\n",
       "    </tr>\n",
       "  </thead>\n",
       "  <tbody>\n",
       "    <tr>\n",
       "      <th>0</th>\n",
       "      <td>NaN</td>\n",
       "      <td>NaN</td>\n",
       "      <td>Май 2021</td>\n",
       "      <td>NaN</td>\n",
       "      <td>NaN</td>\n",
       "      <td>NaN</td>\n",
       "      <td>NaN</td>\n",
       "      <td>NaN</td>\n",
       "    </tr>\n",
       "    <tr>\n",
       "      <th>1</th>\n",
       "      <td>6.0</td>\n",
       "      <td>11693.7</td>\n",
       "      <td>ВНУТРЕННИЙ</td>\n",
       "      <td>-</td>\n",
       "      <td>-</td>\n",
       "      <td>NaN</td>\n",
       "      <td>-</td>\n",
       "      <td>-</td>\n",
       "    </tr>\n",
       "    <tr>\n",
       "      <th>2</th>\n",
       "      <td>14.0</td>\n",
       "      <td>5452.7</td>\n",
       "      <td>ОПЛАЧЕНО</td>\n",
       "      <td>Петрова</td>\n",
       "      <td>новая</td>\n",
       "      <td>NaN</td>\n",
       "      <td>оригинал</td>\n",
       "      <td>2021-07-26 00:00:00</td>\n",
       "    </tr>\n",
       "    <tr>\n",
       "      <th>3</th>\n",
       "      <td>15.0</td>\n",
       "      <td>13991.7</td>\n",
       "      <td>ОПЛАЧЕНО</td>\n",
       "      <td>Иванов</td>\n",
       "      <td>текущая</td>\n",
       "      <td>NaN</td>\n",
       "      <td>оригинал</td>\n",
       "      <td>2021-06-08 00:00:00</td>\n",
       "    </tr>\n",
       "    <tr>\n",
       "      <th>4</th>\n",
       "      <td>16.0</td>\n",
       "      <td>719.7</td>\n",
       "      <td>ОПЛАЧЕНО</td>\n",
       "      <td>Иванов</td>\n",
       "      <td>текущая</td>\n",
       "      <td>NaN</td>\n",
       "      <td>оригинал</td>\n",
       "      <td>2021-06-08 00:00:00</td>\n",
       "    </tr>\n",
       "  </tbody>\n",
       "</table>\n",
       "</div>"
      ],
      "text/plain": [
       "   client_id      sum      status     sale new/current  Unnamed: 5  document  \\\n",
       "0        NaN      NaN    Май 2021      NaN         NaN         NaN       NaN   \n",
       "1        6.0  11693.7  ВНУТРЕННИЙ        -           -         NaN         -   \n",
       "2       14.0   5452.7    ОПЛАЧЕНО  Петрова       новая         NaN  оригинал   \n",
       "3       15.0  13991.7    ОПЛАЧЕНО   Иванов     текущая         NaN  оригинал   \n",
       "4       16.0    719.7    ОПЛАЧЕНО   Иванов     текущая         NaN  оригинал   \n",
       "\n",
       "        receiving_date  \n",
       "0                  NaN  \n",
       "1                    -  \n",
       "2  2021-07-26 00:00:00  \n",
       "3  2021-06-08 00:00:00  \n",
       "4  2021-06-08 00:00:00  "
      ]
     },
     "execution_count": 86,
     "metadata": {},
     "output_type": "execute_result"
    }
   ],
   "source": [
    "#Также для красоты notebook уберем предостережения\n",
    "import warnings\n",
    "warnings.filterwarnings('ignore')\n",
    "\n",
    "import pandas as pd\n",
    "df = pd.read_excel('data.xlsx')\n",
    "print(df.shape)\n",
    "df.head()"
   ]
  },
  {
   "cell_type": "markdown",
   "id": "ed8085e4",
   "metadata": {},
   "source": [
    "Как видно из датасета, он разделен на несколько частей. Каждая новая чатсь начинается со строки, где записан месяц. Посмотрим, данные за какие месяцы представлены в датасете"
   ]
  },
  {
   "cell_type": "code",
   "execution_count": 87,
   "id": "16572263",
   "metadata": {},
   "outputs": [
    {
     "name": "stdout",
     "output_type": "stream",
     "text": [
      "0           Май 2021\n",
      "129        Июнь 2021\n",
      "258        Июль 2021\n",
      "369      Август 2021\n",
      "484    Сентябрь 2021\n",
      "594     Октябрь 2021\n",
      "Name: status, dtype: object\n"
     ]
    }
   ],
   "source": [
    "print(df.loc[df['client_id'].isna(), 'status'])"
   ]
  },
  {
   "cell_type": "markdown",
   "id": "44d4e5b4",
   "metadata": {},
   "source": [
    "Для дальнейшего удобства столбец с датами конвертируем в DateTime"
   ]
  },
  {
   "cell_type": "markdown",
   "id": "4c3cb34f",
   "metadata": {},
   "source": [
    "Перейдем к вопросам. \n",
    "**1) Вычислите общую выручку за июль 2021 по тем сделкам, приход денежных\n",
    "средств которых не просрочен.**\n",
    "\n",
    "Для ответа на вопрос этого выберем значения за Июль 2021 года (выбираем значения от Июля до Августа), где значения столбца status не является \"ПРОСРОЧЕНО\". После этого складываем все значения в столбце sum."
   ]
  },
  {
   "cell_type": "code",
   "execution_count": 88,
   "id": "7c162ed2",
   "metadata": {},
   "outputs": [
    {
     "name": "stdout",
     "output_type": "stream",
     "text": [
      "Ответ: Общая выручка за июль 2021 по сделкам, приход денежных средств которых не был просрочен, составляет  859896.4699999996\n"
     ]
    }
   ],
   "source": [
    "start_value = 'Июль 2021'  \n",
    "end_value = 'Август 2021'      \n",
    "\n",
    "start_mask = df['status'] == start_value  \n",
    "end_mask = df['status'] == end_value      \n",
    "\n",
    "start_index = df.index[start_mask]\n",
    "end_index = df.index[end_mask]\n",
    "\n",
    "July_sum=df[start_index[0]: end_index[0]].loc[~(df['status']=='ПРОСРОЧЕНО')]\n",
    "print('Ответ: Общая выручка за июль 2021 по сделкам, приход денежных средств которых не был просрочен, составляет ',July_sum['sum'].sum())\n"
   ]
  },
  {
   "cell_type": "markdown",
   "id": "39e89ae8",
   "metadata": {},
   "source": [
    "**2) Как изменялась выручка компании за рассматриваемый период?\n",
    "Проиллюстрируйте графиком.**\n",
    "\n",
    "Подсчитаем выручку за каждый месяц"
   ]
  },
  {
   "cell_type": "code",
   "execution_count": 89,
   "id": "a55e69e8",
   "metadata": {},
   "outputs": [
    {
     "name": "stdout",
     "output_type": "stream",
     "text": [
      "[809572.19, 810266.1099999999, 861874.1699999997, 850435.7899999998, 820383.7799999997, 1033148.3899999999]\n",
      "['Май 2021', 'Июнь 2021', 'Июль 2021', 'Август 2021', 'Сентябрь 2021', 'Октябрь 2021']\n"
     ]
    }
   ],
   "source": [
    "dataframes_list = []\n",
    "\n",
    "start_index = None\n",
    "\n",
    "for index, row in df.iterrows():\n",
    "    if pd.isna(row.iloc[0]):\n",
    "        if start_index is not None:\n",
    "            part_df = df.iloc[start_index:index]  \n",
    "            dataframes_list.append(part_df)  \n",
    "            start_index = None  \n",
    "    elif start_index is None:\n",
    "        start_index = index  \n",
    "\n",
    "\n",
    "if start_index is not None:\n",
    "    part_df = df.iloc[start_index:]  \n",
    "    dataframes_list.append(part_df)  \n",
    "\n",
    "sums_List=[]\n",
    "for i in dataframes_list:\n",
    "    sums_List.append(i['sum'].sum())\n",
    "print(sums_List)\n",
    "month_List = df.loc[df['client_id'].isna(), 'status'].values.tolist()\n",
    "print(month_List)"
   ]
  },
  {
   "cell_type": "markdown",
   "id": "fe1efed1",
   "metadata": {},
   "source": [
    "Используем библиотеку matplotlib для построения графика"
   ]
  },
  {
   "cell_type": "code",
   "execution_count": 90,
   "id": "88bd45b4",
   "metadata": {},
   "outputs": [
    {
     "data": {
      "image/png": "[encoded data removed]",
      "text/plain": [
       "<Figure size 1000x480 with 1 Axes>"
      ]
     },
     "metadata": {},
     "output_type": "display_data"
    }
   ],
   "source": [
    "import matplotlib.pyplot as plt\n",
    "\n",
    "plt.figure().set_figwidth(10)\n",
    "\n",
    "plt.plot(month_List, sums_List)\n",
    "\n",
    "plt.xlabel('Месяц')\n",
    "plt.ylabel('Выручка')\n",
    "plt.title('Динамика изменений выручки компании')\n",
    "\n",
    "\n",
    "plt.show()"
   ]
  },
  {
   "cell_type": "markdown",
   "id": "8e596b6b",
   "metadata": {},
   "source": [
    "**3) Кто из менеджеров привлек для компании больше всего денежных средств в\n",
    "сентябре 2021?**\n",
    "\n",
    "Используем список датафреймов, полученный в прошлом задании, чтобы получить информацию о сентябре."
   ]
  },
  {
   "cell_type": "code",
   "execution_count": 91,
   "id": "b42d96af",
   "metadata": {},
   "outputs": [
    {
     "name": "stdout",
     "output_type": "stream",
     "text": [
      "         sale        sum\n",
      "0     Андреев  133652.50\n",
      "1    Васильев   49895.45\n",
      "2      Иванов   94770.60\n",
      "3   Кузнецова   72228.40\n",
      "4    Михайлов    4268.70\n",
      "5     Петрова  149344.46\n",
      "6     Смирнов  221525.70\n",
      "7     Соколов   35183.50\n",
      "8  Филимонова   59514.47\n"
     ]
    }
   ],
   "source": [
    "manager_sales = dataframes_list[4].groupby('sale')['sum'].sum().reset_index()\n",
    "print(manager_sales)"
   ]
  },
  {
   "cell_type": "markdown",
   "id": "5e51fc14",
   "metadata": {},
   "source": [
    "Выведем имя менеджера, который привлек больше всего денежных средств"
   ]
  },
  {
   "cell_type": "code",
   "execution_count": 92,
   "id": "3ad1cdf4",
   "metadata": {},
   "outputs": [
    {
     "name": "stdout",
     "output_type": "stream",
     "text": [
      "Ответ: Менеджер, который привлек больше всего денежных средств —  Смирнов\n"
     ]
    }
   ],
   "source": [
    "print('Ответ: Менеджер, который привлек больше всего денежных средств — ',manager_sales.loc[manager_sales['sum'].idxmax()][0])"
   ]
  },
  {
   "cell_type": "markdown",
   "id": "c0713f25",
   "metadata": {},
   "source": [
    "**4) Какой тип сделок (новая/текущая) был преобладающим в октябре 2021?**\n",
    "\n",
    "Снова возьмем уже созданный список датафреймов и подсчитаем количество новых и текущих сделок"
   ]
  },
  {
   "cell_type": "code",
   "execution_count": 93,
   "metadata": {},
   "outputs": [
    {
     "name": "stdout",
     "output_type": "stream",
     "text": [
      "текущая    99\n",
      "новая      36\n",
      "Name: new/current, dtype: int64\n"
     ]
    }
   ],
   "source": [
    "print(dataframes_list[5]['new/current'].value_counts())\n"
   ]
  },
  {
   "cell_type": "markdown",
   "id": "a7f2d7c8",
   "metadata": {},
   "source": [
    "Как мы видим, больше всего в октябре текущих сделок\n",
    "\n",
    "**5)Сколько оригиналов договора по майским сделкам было получено в июне 2021?**\n",
    "\n",
    "Берем все тот же список датафреймов и анализируем"
   ]
  },
  {
   "cell_type": "code",
   "execution_count": 96,
   "id": "0d8d3405",
   "metadata": {},
   "outputs": [
    {
     "name": "stdout",
     "output_type": "stream",
     "text": [
      "Ответ: Количество оригиналов договора по майским сделкам —  76\n"
     ]
    }
   ],
   "source": [
    "dataframes_list[0]['receiving_date'] = pd.to_datetime(dataframes_list[0]['receiving_date'], errors='coerce')\n",
    "print('Ответ: Количество оригиналов договора по майским сделкам — ',\n",
    "      dataframes_list[0]['document'].\n",
    "        loc[dataframes_list[0]['receiving_date'].dt.month==6].\n",
    "            value_counts()['оригинал'])"
   ]
  },
  {
   "cell_type": "markdown",
   "id": "cf3abcfc",
   "metadata": {},
   "source": [
    "### Задание\n",
    "\n",
    "**За каждую заключенную сделку менеджер получает бонус, который рассчитывается\n",
    "следующим образом.**\n",
    "1) **За новые сделки менеджер получает 7 % от суммы, при условии, что статус оплаты «ОПЛАЧЕНО», а также имеется оригинал подписанного договора с клиентом (в рассматриваемом месяце).**\n",
    "\n",
    "2) **За текущие сделки менеджер получает 5 % от суммы, если она больше 10 тыс., и 3 % от суммы, если меньше. При этом статус оплаты может быть любым кроме «ПРОСРОЧЕНО», а также необходимо наличие оригинала подписанного договора с клиентом (в рассматриваемом месяце).**\n",
    "\n",
    "**Бонусы по сделкам, оригиналы для которых приходят позже рассматриваемого\n",
    "месяца, считаются остатком на следующий период, который выплачивается по мере\n",
    "прихода оригиналов. Вычислите остаток каждого из менеджеров на 01.07.2021.**\n",
    "\n",
    "Исходя из условия задания, необходимо найти все сделки за май и июнь 2021 года, найти сделки, оригиналы документов которых приходят в июле или позже подсчитать долю каждого менеджера по таким сделкам, чтобы вычислить остаток. Воспользуемся все тем же списком датафреймов"
   ]
  },
  {
   "cell_type": "code",
   "execution_count": 95,
   "id": "7735d291",
   "metadata": {},
   "outputs": [
    {
     "name": "stdout",
     "output_type": "stream",
     "text": [
      "Ответ: остаток каждого менеджера на 01.07.2021: \n",
      "          sale         sum\n",
      "0     Андреев   3945.8297\n",
      "1    Васильев   1037.0490\n",
      "2      Иванов   5991.4520\n",
      "3   Кузнецова   4496.9501\n",
      "4     Петрова  10770.7474\n",
      "5   Селиванов   5297.6900\n",
      "6     Смирнов   6430.2650\n",
      "7     Соколов    269.2110\n",
      "8  Филимонова   2317.9579\n"
     ]
    }
   ],
   "source": [
    "dataframes_list[1]['receiving_date'] = pd.to_datetime(dataframes_list[1]['receiving_date'], errors='coerce')\n",
    "merged_df = pd.concat([dataframes_list[0], dataframes_list[1]], axis=0)\n",
    "#Выберем новые сделки, подходящие под условия \n",
    "new_sales = merged_df.loc[(merged_df['new/current']=='новая') \n",
    "                        & (merged_df['status']=='ОПЛАЧЕНО')\n",
    "                            &(merged_df['document']=='оригинал')\n",
    "                                & (merged_df['receiving_date'].dt.month>6)]\n",
    "#Выберем текущие сделки, подходящие под условие\n",
    "current_sales = merged_df.loc[(merged_df['new/current']=='текущая') \n",
    "                        & ~(merged_df['status']=='ПРОСРОЧЕНО')\n",
    "                            &(merged_df['document']=='оригинал')\n",
    "                                & (merged_df['receiving_date'].dt.month>6)]\n",
    "#К текущим сделкам применим функцию, чтобы сразу вычислить, какой должен быть остаток от сделки(3% или 5%)\n",
    "def calculate_sales(row):\n",
    "    if row['sum'] > 10000:\n",
    "        return 0.05 * row['sum']  \n",
    "    else:\n",
    "        return 0.03 * row['sum'] \n",
    "\n",
    "current_sales['sum'] = current_sales.apply(calculate_sales, axis=1)\n",
    "#подсчитаем 7% от новых сделок\n",
    "new_sales['sum']=new_sales['sum']*0.07\n",
    "\n",
    "# Подсчитаем сумму для каждого менеджера\n",
    "all_balance =  pd.concat([current_sales, new_sales], axis=0)\n",
    "# print(all_sales)\n",
    "manager_balance = all_balance.groupby('sale')['sum'].sum().reset_index()\n",
    "\n",
    "print('Ответ: остаток каждого менеджера на 01.07.2021: \\n',manager_balance)"
   ]
  }
 ],
 "metadata": {
  "kernelspec": {
   "display_name": "Python 3",
   "language": "python",
   "name": "python3"
  },
  "language_info": {
   "codemirror_mode": {
    "name": "ipython",
    "version": 3
   },
   "file_extension": ".py",
   "mimetype": "text/x-python",
   "name": "python",
   "nbconvert_exporter": "python",
   "pygments_lexer": "ipython3",
   "version": "3.10.11"
  }
 },
 "nbformat": 4,
 "nbformat_minor": 5
}
